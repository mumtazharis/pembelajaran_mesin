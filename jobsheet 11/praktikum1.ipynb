{
 "cells": [
  {
   "cell_type": "code",
   "execution_count": 1,
   "metadata": {},
   "outputs": [],
   "source": [
    "import tensorflow as tf\n",
    "from keras.preprocessing.image import ImageDataGenerator"
   ]
  },
  {
   "cell_type": "code",
   "execution_count": 2,
   "metadata": {},
   "outputs": [
    {
     "name": "stdout",
     "output_type": "stream",
     "text": [
      "Found 8000 images belonging to 2 classes.\n"
     ]
    }
   ],
   "source": [
    "train_datagen = ImageDataGenerator(rescale = 1./255,\n",
    "                                   shear_range = 0.2,\n",
    "                                   zoom_range = 0.2,\n",
    "                                   horizontal_flip = True)\n",
    "training_set = train_datagen.flow_from_directory('dataset/training_set',\n",
    "                                                 target_size = (64, 64),\n",
    "                                                 batch_size = 32,\n",
    "                                                 class_mode = 'binary')"
   ]
  },
  {
   "cell_type": "code",
   "execution_count": 3,
   "metadata": {},
   "outputs": [
    {
     "name": "stdout",
     "output_type": "stream",
     "text": [
      "Found 2000 images belonging to 2 classes.\n"
     ]
    }
   ],
   "source": [
    "test_datagen = ImageDataGenerator(rescale = 1./255)\n",
    "test_set = test_datagen.flow_from_directory('dataset/test_set',\n",
    "                                            target_size = (64, 64),\n",
    "                                            batch_size = 32,\n",
    "                                            class_mode = 'binary')"
   ]
  },
  {
   "cell_type": "code",
   "execution_count": 4,
   "metadata": {},
   "outputs": [],
   "source": [
    "cnn = tf.keras.models.Sequential()"
   ]
  },
  {
   "cell_type": "code",
   "execution_count": 5,
   "metadata": {},
   "outputs": [],
   "source": [
    "cnn.add(tf.keras.layers.Conv2D(filters=32, kernel_size=3, activation='relu', input_shape=[64, 64, 3]))"
   ]
  },
  {
   "cell_type": "code",
   "execution_count": 6,
   "metadata": {},
   "outputs": [],
   "source": [
    "cnn.add(tf.keras.layers.MaxPool2D(pool_size=2, strides=2))"
   ]
  },
  {
   "cell_type": "code",
   "execution_count": 7,
   "metadata": {},
   "outputs": [],
   "source": [
    "cnn.add(tf.keras.layers.Conv2D(filters=32, kernel_size=3, activation='relu'))\n",
    "cnn.add(tf.keras.layers.MaxPool2D(pool_size=2, strides=2))"
   ]
  },
  {
   "cell_type": "code",
   "execution_count": 8,
   "metadata": {},
   "outputs": [],
   "source": [
    "cnn.add(tf.keras.layers.Flatten())"
   ]
  },
  {
   "cell_type": "code",
   "execution_count": 9,
   "metadata": {},
   "outputs": [],
   "source": [
    "cnn.add(tf.keras.layers.Dense(units=128, activation='relu'))"
   ]
  },
  {
   "cell_type": "code",
   "execution_count": 10,
   "metadata": {},
   "outputs": [],
   "source": [
    "cnn.add(tf.keras.layers.Dense(units=1, activation='sigmoid'))"
   ]
  },
  {
   "cell_type": "code",
   "execution_count": 11,
   "metadata": {},
   "outputs": [],
   "source": [
    "cnn.compile(optimizer = 'adam', loss = 'binary_crossentropy', metrics = ['accuracy'])"
   ]
  },
  {
   "cell_type": "code",
   "execution_count": 12,
   "metadata": {},
   "outputs": [
    {
     "name": "stdout",
     "output_type": "stream",
     "text": [
      "Epoch 1/25\n",
      "250/250 [==============================] - 17s 56ms/step - loss: 0.6795 - accuracy: 0.5707 - val_loss: 0.6481 - val_accuracy: 0.6390\n",
      "Epoch 2/25\n",
      "250/250 [==============================] - 14s 55ms/step - loss: 0.6227 - accuracy: 0.6599 - val_loss: 0.5808 - val_accuracy: 0.7155\n",
      "Epoch 3/25\n",
      "250/250 [==============================] - 14s 55ms/step - loss: 0.5710 - accuracy: 0.7029 - val_loss: 0.5463 - val_accuracy: 0.7355\n",
      "Epoch 4/25\n",
      "250/250 [==============================] - 14s 55ms/step - loss: 0.5354 - accuracy: 0.7287 - val_loss: 0.5049 - val_accuracy: 0.7550\n",
      "Epoch 5/25\n",
      "250/250 [==============================] - 14s 54ms/step - loss: 0.5028 - accuracy: 0.7509 - val_loss: 0.5039 - val_accuracy: 0.7505\n",
      "Epoch 6/25\n",
      "250/250 [==============================] - 14s 56ms/step - loss: 0.4868 - accuracy: 0.7644 - val_loss: 0.4740 - val_accuracy: 0.7720\n",
      "Epoch 7/25\n",
      "250/250 [==============================] - 14s 54ms/step - loss: 0.4632 - accuracy: 0.7775 - val_loss: 0.5042 - val_accuracy: 0.7710\n",
      "Epoch 8/25\n",
      "250/250 [==============================] - 14s 54ms/step - loss: 0.4437 - accuracy: 0.7884 - val_loss: 0.4781 - val_accuracy: 0.7700\n",
      "Epoch 9/25\n",
      "250/250 [==============================] - 14s 55ms/step - loss: 0.4212 - accuracy: 0.8019 - val_loss: 0.4892 - val_accuracy: 0.7775\n",
      "Epoch 10/25\n",
      "250/250 [==============================] - 14s 55ms/step - loss: 0.4129 - accuracy: 0.8124 - val_loss: 0.4633 - val_accuracy: 0.7810\n",
      "Epoch 11/25\n",
      "250/250 [==============================] - 14s 55ms/step - loss: 0.3942 - accuracy: 0.8169 - val_loss: 0.4432 - val_accuracy: 0.8030\n",
      "Epoch 12/25\n",
      "250/250 [==============================] - 14s 54ms/step - loss: 0.3749 - accuracy: 0.8227 - val_loss: 0.4930 - val_accuracy: 0.7870\n",
      "Epoch 13/25\n",
      "250/250 [==============================] - 14s 55ms/step - loss: 0.3600 - accuracy: 0.8361 - val_loss: 0.4657 - val_accuracy: 0.7895\n",
      "Epoch 14/25\n",
      "250/250 [==============================] - 14s 54ms/step - loss: 0.3445 - accuracy: 0.8499 - val_loss: 0.4712 - val_accuracy: 0.8075\n",
      "Epoch 15/25\n",
      "250/250 [==============================] - 14s 56ms/step - loss: 0.3309 - accuracy: 0.8531 - val_loss: 0.4698 - val_accuracy: 0.8000\n",
      "Epoch 16/25\n",
      "250/250 [==============================] - 14s 55ms/step - loss: 0.3181 - accuracy: 0.8593 - val_loss: 0.4631 - val_accuracy: 0.7945\n",
      "Epoch 17/25\n",
      "250/250 [==============================] - 13s 53ms/step - loss: 0.2928 - accuracy: 0.8754 - val_loss: 0.4820 - val_accuracy: 0.7980\n",
      "Epoch 18/25\n",
      "250/250 [==============================] - 14s 54ms/step - loss: 0.2847 - accuracy: 0.8798 - val_loss: 0.4908 - val_accuracy: 0.8085\n",
      "Epoch 19/25\n",
      "250/250 [==============================] - 13s 53ms/step - loss: 0.2690 - accuracy: 0.8866 - val_loss: 0.5002 - val_accuracy: 0.8085\n",
      "Epoch 20/25\n",
      "250/250 [==============================] - 13s 53ms/step - loss: 0.2586 - accuracy: 0.8963 - val_loss: 0.4943 - val_accuracy: 0.8100\n",
      "Epoch 21/25\n",
      "250/250 [==============================] - 13s 54ms/step - loss: 0.2435 - accuracy: 0.8965 - val_loss: 0.5220 - val_accuracy: 0.7955\n",
      "Epoch 22/25\n",
      "250/250 [==============================] - 13s 54ms/step - loss: 0.2295 - accuracy: 0.9039 - val_loss: 0.5185 - val_accuracy: 0.7905\n",
      "Epoch 23/25\n",
      "250/250 [==============================] - 13s 53ms/step - loss: 0.2103 - accuracy: 0.9154 - val_loss: 0.5418 - val_accuracy: 0.8025\n",
      "Epoch 24/25\n",
      "250/250 [==============================] - 13s 53ms/step - loss: 0.2040 - accuracy: 0.9166 - val_loss: 0.5478 - val_accuracy: 0.8120\n",
      "Epoch 25/25\n",
      "250/250 [==============================] - 13s 53ms/step - loss: 0.1981 - accuracy: 0.9179 - val_loss: 0.6738 - val_accuracy: 0.7780\n"
     ]
    },
    {
     "data": {
      "text/plain": [
       "<keras.callbacks.History at 0x1c4d9612590>"
      ]
     },
     "execution_count": 12,
     "metadata": {},
     "output_type": "execute_result"
    }
   ],
   "source": [
    "cnn.fit(x = training_set, validation_data = test_set, epochs = 25)"
   ]
  },
  {
   "cell_type": "code",
   "execution_count": 13,
   "metadata": {},
   "outputs": [
    {
     "name": "stdout",
     "output_type": "stream",
     "text": [
      "1/1 [==============================] - 0s 262ms/step\n"
     ]
    }
   ],
   "source": [
    "import numpy as np\n",
    "import keras.utils as image\n",
    "test_image = image.load_img('dataset/single_prediction/cat_or_dog_1.jpg', target_size = (64, 64))\n",
    "test_image = image.img_to_array(test_image)\n",
    "test_image = np.expand_dims(test_image, axis = 0)\n",
    "result = cnn.predict(test_image)\n",
    "training_set.class_indices\n",
    "if result[0][0] == 1:\n",
    "  prediction = 'dog'\n",
    "else:\n",
    "  prediction = 'cat'"
   ]
  }
 ],
 "metadata": {
  "kernelspec": {
   "display_name": "py310",
   "language": "python",
   "name": "python3"
  },
  "language_info": {
   "codemirror_mode": {
    "name": "ipython",
    "version": 3
   },
   "file_extension": ".py",
   "mimetype": "text/x-python",
   "name": "python",
   "nbconvert_exporter": "python",
   "pygments_lexer": "ipython3",
   "version": "3.10.15"
  }
 },
 "nbformat": 4,
 "nbformat_minor": 2
}
