{
 "cells": [
  {
   "cell_type": "code",
   "execution_count": 193,
   "metadata": {},
   "outputs": [],
   "source": [
    "import pandas as pd\n",
    "from sklearn.linear_model import LogisticRegression\n",
    "from sklearn.model_selection import train_test_split\n",
    "from sklearn.metrics import accuracy_score\n",
    "from sklearn.model_selection import GridSearchCV\n",
    "from sklearn.svm import SVC \n",
    "from sklearn.tree import DecisionTreeClassifier\n",
    "from sklearn.ensemble import VotingClassifier"
   ]
  },
  {
   "cell_type": "code",
   "execution_count": 194,
   "metadata": {},
   "outputs": [
    {
     "data": {
      "text/html": [
       "<div>\n",
       "<style scoped>\n",
       "    .dataframe tbody tr th:only-of-type {\n",
       "        vertical-align: middle;\n",
       "    }\n",
       "\n",
       "    .dataframe tbody tr th {\n",
       "        vertical-align: top;\n",
       "    }\n",
       "\n",
       "    .dataframe thead th {\n",
       "        text-align: right;\n",
       "    }\n",
       "</style>\n",
       "<table border=\"1\" class=\"dataframe\">\n",
       "  <thead>\n",
       "    <tr style=\"text-align: right;\">\n",
       "      <th></th>\n",
       "      <th>Pregnancies</th>\n",
       "      <th>Glucose</th>\n",
       "      <th>BloodPressure</th>\n",
       "      <th>SkinThickness</th>\n",
       "      <th>Insulin</th>\n",
       "      <th>BMI</th>\n",
       "      <th>DiabetesPedigreeFunction</th>\n",
       "      <th>Age</th>\n",
       "      <th>Outcome</th>\n",
       "    </tr>\n",
       "  </thead>\n",
       "  <tbody>\n",
       "    <tr>\n",
       "      <th>0</th>\n",
       "      <td>6</td>\n",
       "      <td>148</td>\n",
       "      <td>72</td>\n",
       "      <td>35</td>\n",
       "      <td>0</td>\n",
       "      <td>33.6</td>\n",
       "      <td>0.627</td>\n",
       "      <td>50</td>\n",
       "      <td>1</td>\n",
       "    </tr>\n",
       "    <tr>\n",
       "      <th>1</th>\n",
       "      <td>1</td>\n",
       "      <td>85</td>\n",
       "      <td>66</td>\n",
       "      <td>29</td>\n",
       "      <td>0</td>\n",
       "      <td>26.6</td>\n",
       "      <td>0.351</td>\n",
       "      <td>31</td>\n",
       "      <td>0</td>\n",
       "    </tr>\n",
       "    <tr>\n",
       "      <th>2</th>\n",
       "      <td>8</td>\n",
       "      <td>183</td>\n",
       "      <td>64</td>\n",
       "      <td>0</td>\n",
       "      <td>0</td>\n",
       "      <td>23.3</td>\n",
       "      <td>0.672</td>\n",
       "      <td>32</td>\n",
       "      <td>1</td>\n",
       "    </tr>\n",
       "    <tr>\n",
       "      <th>3</th>\n",
       "      <td>1</td>\n",
       "      <td>89</td>\n",
       "      <td>66</td>\n",
       "      <td>23</td>\n",
       "      <td>94</td>\n",
       "      <td>28.1</td>\n",
       "      <td>0.167</td>\n",
       "      <td>21</td>\n",
       "      <td>0</td>\n",
       "    </tr>\n",
       "    <tr>\n",
       "      <th>4</th>\n",
       "      <td>0</td>\n",
       "      <td>137</td>\n",
       "      <td>40</td>\n",
       "      <td>35</td>\n",
       "      <td>168</td>\n",
       "      <td>43.1</td>\n",
       "      <td>2.288</td>\n",
       "      <td>33</td>\n",
       "      <td>1</td>\n",
       "    </tr>\n",
       "  </tbody>\n",
       "</table>\n",
       "</div>"
      ],
      "text/plain": [
       "   Pregnancies  Glucose  BloodPressure  SkinThickness  Insulin   BMI  \\\n",
       "0            6      148             72             35        0  33.6   \n",
       "1            1       85             66             29        0  26.6   \n",
       "2            8      183             64              0        0  23.3   \n",
       "3            1       89             66             23       94  28.1   \n",
       "4            0      137             40             35      168  43.1   \n",
       "\n",
       "   DiabetesPedigreeFunction  Age  Outcome  \n",
       "0                     0.627   50        1  \n",
       "1                     0.351   31        0  \n",
       "2                     0.672   32        1  \n",
       "3                     0.167   21        0  \n",
       "4                     2.288   33        1  "
      ]
     },
     "execution_count": 194,
     "metadata": {},
     "output_type": "execute_result"
    }
   ],
   "source": [
    "# Load Data\n",
    "\n",
    "dbt = pd.read_csv('diabetes.csv')\n",
    "\n",
    "dbt.head()"
   ]
  },
  {
   "cell_type": "code",
   "execution_count": 195,
   "metadata": {},
   "outputs": [
    {
     "data": {
      "text/plain": [
       "Index(['Pregnancies', 'Glucose', 'BloodPressure', 'SkinThickness', 'Insulin',\n",
       "       'BMI', 'DiabetesPedigreeFunction', 'Age', 'Outcome'],\n",
       "      dtype='object')"
      ]
     },
     "execution_count": 195,
     "metadata": {},
     "output_type": "execute_result"
    }
   ],
   "source": [
    "# Cek nama kolom\n",
    "dbt.columns"
   ]
  },
  {
   "cell_type": "code",
   "execution_count": 196,
   "metadata": {},
   "outputs": [
    {
     "data": {
      "text/plain": [
       "Pregnancies                 0\n",
       "Glucose                     0\n",
       "BloodPressure               0\n",
       "SkinThickness               0\n",
       "Insulin                     0\n",
       "BMI                         0\n",
       "DiabetesPedigreeFunction    0\n",
       "Age                         0\n",
       "Outcome                     0\n",
       "dtype: int64"
      ]
     },
     "execution_count": 196,
     "metadata": {},
     "output_type": "execute_result"
    }
   ],
   "source": [
    "# Cek kolom null\n",
    "dbt.isnull().sum()"
   ]
  },
  {
   "cell_type": "code",
   "execution_count": 197,
   "metadata": {},
   "outputs": [
    {
     "name": "stdout",
     "output_type": "stream",
     "text": [
      "============================================\n",
      "Pregnancies ==> Missing zeros : 111\n",
      "============================================\n",
      "Glucose ==> Missing zeros : 5\n",
      "============================================\n",
      "BloodPressure ==> Missing zeros : 35\n",
      "============================================\n",
      "SkinThickness ==> Missing zeros : 227\n",
      "============================================\n",
      "Insulin ==> Missing zeros : 374\n",
      "============================================\n",
      "BMI ==> Missing zeros : 11\n",
      "============================================\n",
      "DiabetesPedigreeFunction ==> Missing zeros : 0\n",
      "============================================\n",
      "Age ==> Missing zeros : 0\n"
     ]
    }
   ],
   "source": [
    "# Pada kasus ini, agak tidak masuk akal jika beberapa parameter bernilai 0\n",
    "# sebagai contoh adalah nilai 'Glucose', 'BloodPlessure' ataupun 'Insulin'.\n",
    "# Sekecil apapun nilainya, setiap manusia yang hidup pasti miliki nilai-nilai tersebut\n",
    "\n",
    "# Kita akan manipulasi nilai yang 0 dengan melakukan 'imputasi' atau mengganti nilainya dengan nilai sintetis\n",
    "# Pada kasus ini, kita akan menggunakan nilai mean\n",
    "\n",
    "# Cek kolom neng nilai 0\n",
    "feature_columns = ['Pregnancies', 'Glucose', 'BloodPressure', 'SkinThickness', 'Insulin', 'BMI', 'DiabetesPedigreeFunction', 'Age']\n",
    "for column in feature_columns:\n",
    "    print(\"============================================\")\n",
    "    print(f\"{column} ==> Missing zeros : {len(dbt.loc[dbt[column] == 0])}\")"
   ]
  },
  {
   "cell_type": "code",
   "execution_count": 198,
   "metadata": {},
   "outputs": [],
   "source": [
    "# Impute nilai 0 dengan mean\n",
    "from sklearn.impute import SimpleImputer\n",
    "\n",
    "fill_values = SimpleImputer(missing_values=0, strategy=\"mean\", copy=False)\n",
    "\n",
    "dbt[feature_columns] = fill_values.fit_transform(dbt[feature_columns])"
   ]
  },
  {
   "cell_type": "code",
   "execution_count": 199,
   "metadata": {},
   "outputs": [],
   "source": [
    "X = dbt[feature_columns]\n",
    "y = dbt.Outcome\n",
    "\n",
    "X_train, X_test, y_train, y_test = train_test_split(X, y, test_size=0.2, random_state=42)"
   ]
  },
  {
   "cell_type": "code",
   "execution_count": 200,
   "metadata": {},
   "outputs": [],
   "source": [
    "from sklearn.preprocessing import StandardScaler\n",
    "\n",
    "sc = StandardScaler()\n",
    "\n",
    "# Standarisasi pada fitur di X_train dan X_test\n",
    "X_train_std = sc.fit_transform(X_train)\n",
    "X_test_std = sc.transform(X_test)"
   ]
  },
  {
   "cell_type": "markdown",
   "metadata": {},
   "source": [
    "# Logistic Regression"
   ]
  },
  {
   "cell_type": "code",
   "execution_count": 201,
   "metadata": {},
   "outputs": [
    {
     "name": "stdout",
     "output_type": "stream",
     "text": [
      "Fitting 5 folds for each of 90 candidates, totalling 450 fits\n",
      "Best Hyperparameters: {'C': 0.1, 'l1_ratio': 0.9, 'max_iter': 100, 'penalty': 'elasticnet', 'solver': 'saga'}\n",
      "Accuracy on train: 0.77\n",
      "Accuracy on test: 0.78\n"
     ]
    }
   ],
   "source": [
    "# Definisikan model Logistic Regression\n",
    "log_reg = LogisticRegression()\n",
    "\n",
    "# Definisikan parameter grid untuk tuning\n",
    "param_grid = [\n",
    "    {\n",
    "        'C': [0.01, 0.1, 1, 10, 100],  # Nilai regularisasi\n",
    "        'penalty': ['l2', None],  # Jenis penalti untuk solver lbfgs\n",
    "        'solver': ['lbfgs'],  # Solver yang mendukung l2\n",
    "        'max_iter': [100, 200, 500]\n",
    "    },\n",
    "    {\n",
    "        'C': [0.01, 0.1, 1, 10, 100],  # Nilai regularisasi\n",
    "        'penalty': ['l1'],  # Jenis penalti untuk solver liblinear\n",
    "        'solver': ['liblinear'],  # Solver yang mendukung l1\n",
    "        'max_iter': [100, 200, 500]\n",
    "    },\n",
    "    {\n",
    "        'C': [0.01, 0.1, 1, 10, 100],  # Nilai regularisasi\n",
    "        'penalty': ['elasticnet'],  # Jenis penalti untuk solver saga\n",
    "        'solver': ['saga'],  # Solver yang mendukung semua penalti\n",
    "        'max_iter': [100, 200, 500],\n",
    "        'l1_ratio': [0.1, 0.5, 0.9]  # Tambahkan l1_ratio untuk elasticnet\n",
    "    },\n",
    "]\n",
    "\n",
    "# Buat GridSearchCV\n",
    "grid_search = GridSearchCV(estimator=log_reg, param_grid=param_grid, cv=5, scoring='accuracy', verbose=1, n_jobs=-1)\n",
    "\n",
    "# Latih model dengan pencarian grid\n",
    "grid_search.fit(X_train_std, y_train)\n",
    "\n",
    "# Tampilkan hasil tuning terbaik\n",
    "print(\"Best Hyperparameters:\", grid_search.best_params_)\n",
    "\n",
    "# Gunakan model dengan hyperparameter terbaik\n",
    "best_log_reg = grid_search.best_estimator_\n",
    "\n",
    "# Memprediksi label set test\n",
    "y_pred_log_reg = best_log_reg.predict(X_test_std)\n",
    "\n",
    "# Menghitung akurasi pada data pelatihan\n",
    "y_train_pred_log_reg = best_log_reg.predict(X_train_std)\n",
    "acc_train_log_reg = accuracy_score(y_train, y_train_pred_log_reg)\n",
    "\n",
    "# Menghitung akurasi pada data pengujian\n",
    "acc_test_log_reg = accuracy_score(y_test, y_pred_log_reg)\n",
    "\n",
    "# Print hasil evaluasi\n",
    "print(f'Accuracy on train: {acc_train_log_reg:.2f}')\n",
    "print(f'Accuracy on test: {acc_test_log_reg:.2f}')"
   ]
  },
  {
   "cell_type": "markdown",
   "metadata": {},
   "source": [
    "# SVM kernel polynomial"
   ]
  },
  {
   "cell_type": "code",
   "execution_count": 202,
   "metadata": {},
   "outputs": [
    {
     "name": "stdout",
     "output_type": "stream",
     "text": [
      "Fitting 5 folds for each of 480 candidates, totalling 2400 fits\n",
      "Best Hyperparameters for SVM with poly kernel: {'C': 100, 'coef0': 1.0, 'degree': 4, 'gamma': 0.001}\n",
      "Accuracy on train (SVM poly): 0.78\n",
      "Accuracy on test (SVM poly): 0.79\n"
     ]
    }
   ],
   "source": [
    "# Definisikan model SVM dengan kernel polynomial\n",
    "svm_poly = SVC(kernel='poly')\n",
    "\n",
    "# Definisikan parameter grid untuk tuning hyperparameter\n",
    "param_grid = {\n",
    "    'C': [0.01, 0.1, 1, 10, 100],  # Nilai regularisasi\n",
    "    'degree': [2, 3, 4, 5],  # Derajat polinomial\n",
    "    'coef0': [0.0, 0.1, 0.5, 1.0],  # Koefisien bebas dalam kernel polinomial\n",
    "    'gamma': ['scale', 'auto', 0.001, 0.01, 0.1, 1.0],  # Kernel coefficient\n",
    "}\n",
    "\n",
    "# Buat GridSearchCV\n",
    "grid_search_svm = GridSearchCV(estimator=svm_poly, param_grid=param_grid, cv=5, scoring='accuracy', verbose=1, n_jobs=-1)\n",
    "\n",
    "# Latih model dengan pencarian grid\n",
    "grid_search_svm.fit(X_train_std, y_train)\n",
    "\n",
    "# Tampilkan hasil tuning terbaik\n",
    "print(\"Best Hyperparameters for SVM with poly kernel:\", grid_search_svm.best_params_)\n",
    "\n",
    "# Gunakan model dengan hyperparameter terbaik\n",
    "best_svm_poly = grid_search_svm.best_estimator_\n",
    "\n",
    "# Memprediksi label set test\n",
    "y_pred_svm_poly = best_svm_poly.predict(X_test_std)\n",
    "\n",
    "# Menghitung akurasi pada data pelatihan\n",
    "y_train_pred_svm_poly = best_svm_poly.predict(X_train_std)\n",
    "acc_train_svm_poly = accuracy_score(y_train, y_train_pred_svm_poly)\n",
    "\n",
    "# Menghitung akurasi pada data pengujian\n",
    "acc_test_svm_poly = accuracy_score(y_test, y_pred_svm_poly)\n",
    "\n",
    "# Print hasil evaluasi\n",
    "print(f'Accuracy on train (SVM poly): {acc_train_svm_poly:.2f}')\n",
    "print(f'Accuracy on test (SVM poly): {acc_test_svm_poly:.2f}')"
   ]
  },
  {
   "cell_type": "markdown",
   "metadata": {},
   "source": [
    "# Decision tree"
   ]
  },
  {
   "cell_type": "code",
   "execution_count": 203,
   "metadata": {},
   "outputs": [
    {
     "name": "stdout",
     "output_type": "stream",
     "text": [
      "Best hyperparameters: {'criterion': 'entropy', 'max_depth': 30, 'max_features': None, 'min_samples_leaf': 10, 'min_samples_split': 2}\n",
      "Accuracy on train: 0.86\n",
      "Accuracy on test: 0.73\n"
     ]
    }
   ],
   "source": [
    "# Definisikan model\n",
    "dt = DecisionTreeClassifier()\n",
    "\n",
    "# Definisikan grid hyperparameter yang akan dicoba\n",
    "param_grid = {\n",
    "    'max_depth': [None, 10, 20, 30],  # Kedalaman maksimal pohon\n",
    "    'min_samples_split': [2, 10, 20],  # Minimum sampel untuk split internal node\n",
    "    'min_samples_leaf': [1, 5, 10],  # Minimum sampel di leaf node\n",
    "    'criterion': ['gini', 'entropy'],  # Kriteria split (Gini atau Entropy)\n",
    "    'max_features': [None, 'sqrt', 'log2'],  # Fitur maksimal yang digunakan dalam split\n",
    "}\n",
    "\n",
    "# Buat objek GridSearchCV\n",
    "grid_search = GridSearchCV(estimator=dt, param_grid=param_grid, cv=5, scoring='accuracy', n_jobs=-1)\n",
    "\n",
    "# Sesuaikan ke set training\n",
    "grid_search.fit(X_train_std, y_train)\n",
    "\n",
    "# Dapatkan hasil terbaik\n",
    "best_dt = grid_search.best_estimator_\n",
    "print(f\"Best hyperparameters: {grid_search.best_params_}\")\n",
    "\n",
    "# Memprediksi set test menggunakan model terbaik\n",
    "y_pred_dt = best_dt.predict(X_test_std)\n",
    "\n",
    "# Menghitung akurasi pada data pelatihan\n",
    "y_train_pred_dt = best_dt.predict(X_train_std)\n",
    "acc_train_dt = accuracy_score(y_train, y_train_pred_dt)\n",
    "\n",
    "# Menghitung akurasi pada data pengujian\n",
    "acc_test_dt = accuracy_score(y_test, y_pred_dt)\n",
    "\n",
    "# Print hasil evaluasi\n",
    "print(f'Accuracy on train: {acc_train_dt:.2f}')\n",
    "print(f'Accuracy on test: {acc_test_dt:.2f}')\n"
   ]
  },
  {
   "cell_type": "markdown",
   "metadata": {},
   "source": [
    "# Ensemble voting"
   ]
  },
  {
   "cell_type": "code",
   "execution_count": 204,
   "metadata": {},
   "outputs": [
    {
     "name": "stdout",
     "output_type": "stream",
     "text": [
      "Accuracy on train (Voting Classifier): 0.79\n",
      "Accuracy on test (Voting Classifier): 0.77\n"
     ]
    }
   ],
   "source": [
    "# Buat Voting Classifier menggunakan model yang sudah ada\n",
    "voting_clf = VotingClassifier(estimators=[\n",
    "    ('log_reg', best_log_reg), \n",
    "    ('svm_poly', best_svm_poly),\n",
    "    ('dt', best_dt)  # Model ketiga yang sudah dilatih\n",
    "], voting='hard')  # Majority voting\n",
    "\n",
    "# Latih Voting Classifier (jika perlu, ini akan cepat karena model sudah dilatih)\n",
    "voting_clf.fit(X_train_std, y_train)\n",
    "\n",
    "# Prediksi label pada data uji\n",
    "y_pred_voting = voting_clf.predict(X_test_std)\n",
    "\n",
    "# Menghitung akurasi pada data pelatihan\n",
    "y_train_pred_voting = voting_clf.predict(X_train_std)\n",
    "acc_train_voting = accuracy_score(y_train, y_train_pred_voting)\n",
    "\n",
    "# Menghitung akurasi pada data pengujian\n",
    "acc_test_voting = accuracy_score(y_test, y_pred_voting)\n",
    "\n",
    "# Print hasil evaluasi\n",
    "print(f'Accuracy on train (Voting Classifier): {acc_train_voting:.2f}')\n",
    "print(f'Accuracy on test (Voting Classifier): {acc_test_voting:.2f}')"
   ]
  }
 ],
 "metadata": {
  "kernelspec": {
   "display_name": "Python 3",
   "language": "python",
   "name": "python3"
  },
  "language_info": {
   "codemirror_mode": {
    "name": "ipython",
    "version": 3
   },
   "file_extension": ".py",
   "mimetype": "text/x-python",
   "name": "python",
   "nbconvert_exporter": "python",
   "pygments_lexer": "ipython3",
   "version": "3.10.6"
  }
 },
 "nbformat": 4,
 "nbformat_minor": 2
}
