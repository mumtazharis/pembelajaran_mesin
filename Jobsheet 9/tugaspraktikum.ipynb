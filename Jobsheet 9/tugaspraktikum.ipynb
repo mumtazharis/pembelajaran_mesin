{
 "cells": [
  {
   "cell_type": "code",
   "execution_count": 1,
   "metadata": {},
   "outputs": [],
   "source": [
    "import tensorflow as tf\n",
    "from keras.datasets import mnist\n",
    "from tensorflow.keras.utils import to_categorical\n",
    "import numpy as np\n",
    "import matplotlib.pyplot as plt"
   ]
  },
  {
   "cell_type": "code",
   "execution_count": 2,
   "metadata": {},
   "outputs": [],
   "source": [
    "(X_train, y_train), (X_test, y_test) = mnist.load_data()"
   ]
  },
  {
   "cell_type": "code",
   "execution_count": 3,
   "metadata": {},
   "outputs": [
    {
     "data": {
      "text/plain": [
       "(60000, 28, 28)"
      ]
     },
     "execution_count": 3,
     "metadata": {},
     "output_type": "execute_result"
    }
   ],
   "source": [
    "X_train.shape"
   ]
  },
  {
   "cell_type": "code",
   "execution_count": 4,
   "metadata": {},
   "outputs": [
    {
     "data": {
      "text/plain": [
       "(60000,)"
      ]
     },
     "execution_count": 4,
     "metadata": {},
     "output_type": "execute_result"
    }
   ],
   "source": [
    "y_train.shape"
   ]
  },
  {
   "cell_type": "code",
   "execution_count": 5,
   "metadata": {},
   "outputs": [
    {
     "data": {
      "text/plain": [
       "(10000, 28, 28)"
      ]
     },
     "execution_count": 5,
     "metadata": {},
     "output_type": "execute_result"
    }
   ],
   "source": [
    "X_test.shape"
   ]
  },
  {
   "cell_type": "code",
   "execution_count": 6,
   "metadata": {},
   "outputs": [
    {
     "data": {
      "text/plain": [
       "(10000,)"
      ]
     },
     "execution_count": 6,
     "metadata": {},
     "output_type": "execute_result"
    }
   ],
   "source": [
    "y_test.shape"
   ]
  },
  {
   "cell_type": "code",
   "execution_count": 7,
   "metadata": {},
   "outputs": [],
   "source": [
    "# Melakukan nromalisasi pixel\n",
    "X_train = X_train / 255.0\n",
    "X_test = X_test / 255.0"
   ]
  },
  {
   "cell_type": "code",
   "execution_count": 8,
   "metadata": {},
   "outputs": [],
   "source": [
    "# Menubah array menjadi satu dimensi\n",
    "X_train = X_train.reshape(-1, 28 * 28)\n",
    "X_test = X_test.reshape(-1, 28 * 28)\n"
   ]
  },
  {
   "cell_type": "code",
   "execution_count": 9,
   "metadata": {},
   "outputs": [],
   "source": [
    "# one hot encoding untuk label\n",
    "y_train = to_categorical(y_train, 10)\n",
    "y_test = to_categorical(y_test, 10)\n"
   ]
  },
  {
   "cell_type": "code",
   "execution_count": 10,
   "metadata": {},
   "outputs": [],
   "source": [
    "from tensorflow.keras.models import Sequential\n",
    "from tensorflow.keras.layers import Dense\n",
    "\n",
    "# model ANN\n",
    "model = Sequential()\n",
    "\n",
    "# Input layer dan Hidden layer 1\n",
    "model.add(Dense(128, activation='relu', input_shape=(784,)))\n",
    "\n",
    "# Hidden layer 2\n",
    "model.add(Dense(64, activation='relu'))\n",
    "\n",
    "# Output layer\n",
    "model.add(Dense(10, activation='softmax'))\n",
    "\n",
    "# Kompilasi model\n",
    "model.compile(optimizer='adam', loss='categorical_crossentropy', metrics=['accuracy'])\n"
   ]
  },
  {
   "cell_type": "code",
   "execution_count": 11,
   "metadata": {},
   "outputs": [
    {
     "name": "stdout",
     "output_type": "stream",
     "text": [
      "Epoch 1/10\n",
      "1875/1875 [==============================] - 6s 2ms/step - loss: 0.2398 - accuracy: 0.9285 - val_loss: 0.1401 - val_accuracy: 0.9579\n",
      "Epoch 2/10\n",
      "1875/1875 [==============================] - 4s 2ms/step - loss: 0.1019 - accuracy: 0.9687 - val_loss: 0.1062 - val_accuracy: 0.9684\n",
      "Epoch 3/10\n",
      "1875/1875 [==============================] - 4s 2ms/step - loss: 0.0715 - accuracy: 0.9772 - val_loss: 0.0956 - val_accuracy: 0.9700\n",
      "Epoch 4/10\n",
      "1875/1875 [==============================] - 4s 2ms/step - loss: 0.0533 - accuracy: 0.9826 - val_loss: 0.0790 - val_accuracy: 0.9766\n",
      "Epoch 5/10\n",
      "1875/1875 [==============================] - 4s 2ms/step - loss: 0.0422 - accuracy: 0.9864 - val_loss: 0.0936 - val_accuracy: 0.9719\n",
      "Epoch 6/10\n",
      "1875/1875 [==============================] - 4s 2ms/step - loss: 0.0353 - accuracy: 0.9887 - val_loss: 0.0835 - val_accuracy: 0.9765\n",
      "Epoch 7/10\n",
      "1875/1875 [==============================] - 4s 2ms/step - loss: 0.0302 - accuracy: 0.9901 - val_loss: 0.0792 - val_accuracy: 0.9778\n",
      "Epoch 8/10\n",
      "1875/1875 [==============================] - 4s 2ms/step - loss: 0.0236 - accuracy: 0.9923 - val_loss: 0.0908 - val_accuracy: 0.9764\n",
      "Epoch 9/10\n",
      "1875/1875 [==============================] - 4s 2ms/step - loss: 0.0205 - accuracy: 0.9936 - val_loss: 0.0867 - val_accuracy: 0.9795\n",
      "Epoch 10/10\n",
      "1875/1875 [==============================] - 4s 2ms/step - loss: 0.0202 - accuracy: 0.9933 - val_loss: 0.0891 - val_accuracy: 0.9785\n"
     ]
    },
    {
     "data": {
      "text/plain": [
       "<keras.callbacks.History at 0x204a3c73f10>"
      ]
     },
     "execution_count": 11,
     "metadata": {},
     "output_type": "execute_result"
    }
   ],
   "source": [
    "# Latih model\n",
    "model.fit(X_train, y_train, epochs=10, batch_size=32, validation_data=(X_test, y_test))\n"
   ]
  },
  {
   "cell_type": "code",
   "execution_count": 12,
   "metadata": {},
   "outputs": [],
   "source": [
    "from sklearn.metrics import confusion_matrix, ConfusionMatrixDisplay"
   ]
  },
  {
   "cell_type": "code",
   "execution_count": 13,
   "metadata": {},
   "outputs": [
    {
     "name": "stdout",
     "output_type": "stream",
     "text": [
      "Test Accuracy: 0.9785\n"
     ]
    }
   ],
   "source": [
    "# Menghitung akurasi\n",
    "test_loss, test_accuracy = model.evaluate(X_test, y_test, verbose=0)\n",
    "print(f'Test Accuracy: {test_accuracy:.4f}')"
   ]
  },
  {
   "cell_type": "code",
   "execution_count": 14,
   "metadata": {},
   "outputs": [
    {
     "name": "stdout",
     "output_type": "stream",
     "text": [
      "313/313 [==============================] - 0s 830us/step\n"
     ]
    },
    {
     "data": {
      "image/png": "[encoded data removed]",
      "text/plain": [
       "<Figure size 640x480 with 2 Axes>"
      ]
     },
     "metadata": {},
     "output_type": "display_data"
    }
   ],
   "source": [
    "# Menghasilkan prediksi\n",
    "y_pred = model.predict(X_test)\n",
    "y_pred_classes = np.argmax(y_pred, axis=1)  # Kelas dengan probabilitas tertinggi\n",
    "y_true = np.argmax(y_test, axis=1)  # Kelas sebenarnya\n",
    "\n",
    "# Hitung dan tampilkan confusion matrix\n",
    "cm = confusion_matrix(y_true, y_pred_classes)\n",
    "\n",
    "# Tampilkan confusion matrix\n",
    "cmd = ConfusionMatrixDisplay(confusion_matrix=cm, display_labels=np.arange(10))\n",
    "cmd.plot(cmap=plt.cm.Blues)\n",
    "plt.title('Confusion Matrix')\n",
    "plt.show()"
   ]
  },
  {
   "cell_type": "markdown",
   "metadata": {},
   "source": [
    "### Penjelasan\n",
    "\n",
    "- ##### Preprocessing\n",
    "    - **Normalisasi**\n",
    "    \n",
    "        Skala piksel gambar berada di antara 0 dan 255, sehingga perlu dilakukan normalisasi data agar berada dalam rentang 0 hingga 1.\n",
    "    \n",
    "    - **Reshape**\n",
    "    \n",
    "        Gambar pada MNIST memiliki ukuran 28x28 piksel. Perlu mereshape gambar ke bentuk vektor satu dimensi (flattening).\n",
    "    \n",
    "    - **One-Hot Encoding untuk Label**\n",
    "\n",
    "        Label kelas perlu diubah menjadi one-hot encoding karena kita melakukan klasifikasi multi-kelas.\n",
    "\n",
    "- ##### Pemilihan Fitur\n",
    "\n",
    "    Pada dataset MNIST, setiap gambar digit 28x28 piksel memiliki 784 fitur (28 * 28). Tidak ada fitur yang perlu dihapus secara langsung, karena setiap piksel gambar penting untuk menentukan kelas digit.\n",
    "\n",
    "- ##### Arsitektur ANN\n",
    "\n",
    "    - **Input Layer**: 784 neuron (untuk setiap piksel dalam gambar 28x28 yang telah di-flatten).\n",
    "    - **Hidden Layer 1**: 128 neuron, dengan fungsi aktivasi ReLU.\n",
    "    - **Hidden Layer 2**: 64 neuron, dengan fungsi aktivasi ReLU.\n",
    "    - **Output Layer**: 10 neuron (untuk 10 kelas digit 0-9), dengan fungsi aktivasi softmax untuk klasifikasi multi-kelas.\n",
    "\n",
    "- ##### Fungsi Aktivasi\n",
    "\n",
    "    - **ReLU (Rectified Linear Unit)**: Fungsi ini mengubah nilai negatif menjadi nol, sementara nilai positif tetap. ReLU sering digunakan pada lapisan tersembunyi karena mengurangi masalah vanishing gradient.\n",
    "    \n",
    "    - **Softmax**: Digunakan pada lapisan output untuk masalah klasifikasi multi-kelas. Softmax mengonversi output menjadi probabilitas yang semuanya berjumlah 1.\n",
    "\n",
    "- ##### Training Model\n",
    "\n",
    "    Model dilatih dengan menggunakan perintah berikut:\n",
    "    \n",
    "    ```python\n",
    "    model.fit(X_train, y_train, epochs=10, batch_size=32, validation_data=(X_test, y_test))\n",
    "    ```\n",
    "\n",
    "    - **epochs=100**: Model dilatih selama 100 kali iterasi penuh pada dataset pelatihan.\n",
    "    - **batch_size=32**: Setiap batch berisi 32 contoh data untuk memperbarui bobot model.\n",
    "    - **validation_data**: Data validasi digunakan untuk mengevaluasi kinerja model selama pelatihan.\n",
    "\n",
    "- ##### Hasil\n",
    "\n",
    "    Hasil pada test menunjukkan akurasi sebesar **0.9791**.\n"
   ]
  }
 ],
 "metadata": {
  "kernelspec": {
   "display_name": "py310",
   "language": "python",
   "name": "python3"
  },
  "language_info": {
   "codemirror_mode": {
    "name": "ipython",
    "version": 3
   },
   "file_extension": ".py",
   "mimetype": "text/x-python",
   "name": "python",
   "nbconvert_exporter": "python",
   "pygments_lexer": "ipython3",
   "version": "3.10.15"
  }
 },
 "nbformat": 4,
 "nbformat_minor": 2
}
