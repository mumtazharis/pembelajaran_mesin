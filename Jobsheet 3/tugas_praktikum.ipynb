{
 "cells": [
  {
   "cell_type": "code",
   "execution_count": 53,
   "metadata": {},
   "outputs": [],
   "source": [
    "import numpy as np\n",
    "import pandas as pd\n",
    "import matplotlib.pyplot as plt\n"
   ]
  },
  {
   "cell_type": "code",
   "execution_count": 54,
   "metadata": {},
   "outputs": [],
   "source": [
    "dataset = pd.read_csv('insurance.csv')"
   ]
  },
  {
   "cell_type": "markdown",
   "metadata": {},
   "source": [
    "Berikut fitur yang bisa dipilih untuk model prediktif:\n",
    "\n",
    "1. age: Fitur ini merupakan fitur numerik yang penting karena usia sering kali mempengaruhi biaya asuransi. Semakin tua seseorang, biasanya premi asuransi akan semakin mahal.\n",
    "\n",
    "2. sex: Meskipun fitur ini adalah fitur kategori (binary: pria/wanita), jenis kelamin bisa mempengaruhi biaya asuransi. Fiutr ini perlu di-encode.\n",
    "\n",
    "3. bmi: Indeks massa tubuh merupakan fitur numerik yang relevan karena kondisi kesehatan seseorang, seperti obesitas, bisa berdampak pada biaya asuransi.\n",
    "\n",
    "4. children: Jumlah anak merupakan fitur numerik yang bisa berpengaruh pada pengeluaran dan risiko, sehingga relevan untuk dimasukkan ke model.\n",
    "\n",
    "5. smoker: Ini adalah fitur kategori biner yang sangat penting, karena perokok biasanya dikenakan premi lebih tinggi. Fitur ini perlu di-encode.\n",
    "\n",
    "6. region: Fitur kategori yang bisa menunjukkan wilayah geografis. Biaya asuransi mungkin berbeda di berbagai wilayah, sehingga perlu di-encode sebagai variabel kategori."
   ]
  },
  {
   "cell_type": "code",
   "execution_count": 55,
   "metadata": {},
   "outputs": [
    {
     "data": {
      "text/html": [
       "<div>\n",
       "<style scoped>\n",
       "    .dataframe tbody tr th:only-of-type {\n",
       "        vertical-align: middle;\n",
       "    }\n",
       "\n",
       "    .dataframe tbody tr th {\n",
       "        vertical-align: top;\n",
       "    }\n",
       "\n",
       "    .dataframe thead th {\n",
       "        text-align: right;\n",
       "    }\n",
       "</style>\n",
       "<table border=\"1\" class=\"dataframe\">\n",
       "  <thead>\n",
       "    <tr style=\"text-align: right;\">\n",
       "      <th></th>\n",
       "      <th>age</th>\n",
       "      <th>sex</th>\n",
       "      <th>bmi</th>\n",
       "      <th>children</th>\n",
       "      <th>smoker</th>\n",
       "      <th>region</th>\n",
       "      <th>charges</th>\n",
       "    </tr>\n",
       "  </thead>\n",
       "  <tbody>\n",
       "    <tr>\n",
       "      <th>0</th>\n",
       "      <td>19</td>\n",
       "      <td>female</td>\n",
       "      <td>27.900</td>\n",
       "      <td>0</td>\n",
       "      <td>yes</td>\n",
       "      <td>southwest</td>\n",
       "      <td>16884.92400</td>\n",
       "    </tr>\n",
       "    <tr>\n",
       "      <th>1</th>\n",
       "      <td>18</td>\n",
       "      <td>male</td>\n",
       "      <td>33.770</td>\n",
       "      <td>1</td>\n",
       "      <td>no</td>\n",
       "      <td>southeast</td>\n",
       "      <td>1725.55230</td>\n",
       "    </tr>\n",
       "    <tr>\n",
       "      <th>2</th>\n",
       "      <td>28</td>\n",
       "      <td>male</td>\n",
       "      <td>33.000</td>\n",
       "      <td>3</td>\n",
       "      <td>no</td>\n",
       "      <td>southeast</td>\n",
       "      <td>4449.46200</td>\n",
       "    </tr>\n",
       "    <tr>\n",
       "      <th>3</th>\n",
       "      <td>33</td>\n",
       "      <td>male</td>\n",
       "      <td>22.705</td>\n",
       "      <td>0</td>\n",
       "      <td>no</td>\n",
       "      <td>northwest</td>\n",
       "      <td>21984.47061</td>\n",
       "    </tr>\n",
       "    <tr>\n",
       "      <th>4</th>\n",
       "      <td>32</td>\n",
       "      <td>male</td>\n",
       "      <td>28.880</td>\n",
       "      <td>0</td>\n",
       "      <td>no</td>\n",
       "      <td>northwest</td>\n",
       "      <td>3866.85520</td>\n",
       "    </tr>\n",
       "  </tbody>\n",
       "</table>\n",
       "</div>"
      ],
      "text/plain": [
       "   age     sex     bmi  children smoker     region      charges\n",
       "0   19  female  27.900         0    yes  southwest  16884.92400\n",
       "1   18    male  33.770         1     no  southeast   1725.55230\n",
       "2   28    male  33.000         3     no  southeast   4449.46200\n",
       "3   33    male  22.705         0     no  northwest  21984.47061\n",
       "4   32    male  28.880         0     no  northwest   3866.85520"
      ]
     },
     "execution_count": 55,
     "metadata": {},
     "output_type": "execute_result"
    }
   ],
   "source": [
    "dataset.head()"
   ]
  },
  {
   "cell_type": "code",
   "execution_count": 56,
   "metadata": {},
   "outputs": [],
   "source": [
    "from sklearn.model_selection import train_test_split\n",
    "from sklearn.preprocessing import LabelEncoder, StandardScaler\n",
    "from sklearn.linear_model import LinearRegression\n",
    "from sklearn.ensemble import RandomForestRegressor\n",
    "from sklearn.metrics import mean_absolute_error, mean_squared_error, r2_score"
   ]
  },
  {
   "cell_type": "code",
   "execution_count": 57,
   "metadata": {},
   "outputs": [],
   "source": [
    "le = LabelEncoder()\n",
    "dataset['sex'] = le.fit_transform(dataset['sex'])\n",
    "dataset['smoker'] = le.fit_transform(dataset['smoker'])\n",
    "dataset['region'] = le.fit_transform(dataset['region'])"
   ]
  },
  {
   "cell_type": "code",
   "execution_count": 58,
   "metadata": {},
   "outputs": [
    {
     "data": {
      "text/html": [
       "<div>\n",
       "<style scoped>\n",
       "    .dataframe tbody tr th:only-of-type {\n",
       "        vertical-align: middle;\n",
       "    }\n",
       "\n",
       "    .dataframe tbody tr th {\n",
       "        vertical-align: top;\n",
       "    }\n",
       "\n",
       "    .dataframe thead th {\n",
       "        text-align: right;\n",
       "    }\n",
       "</style>\n",
       "<table border=\"1\" class=\"dataframe\">\n",
       "  <thead>\n",
       "    <tr style=\"text-align: right;\">\n",
       "      <th></th>\n",
       "      <th>age</th>\n",
       "      <th>sex</th>\n",
       "      <th>bmi</th>\n",
       "      <th>children</th>\n",
       "      <th>smoker</th>\n",
       "      <th>region</th>\n",
       "      <th>charges</th>\n",
       "    </tr>\n",
       "  </thead>\n",
       "  <tbody>\n",
       "    <tr>\n",
       "      <th>0</th>\n",
       "      <td>19</td>\n",
       "      <td>0</td>\n",
       "      <td>27.900</td>\n",
       "      <td>0</td>\n",
       "      <td>1</td>\n",
       "      <td>3</td>\n",
       "      <td>16884.92400</td>\n",
       "    </tr>\n",
       "    <tr>\n",
       "      <th>1</th>\n",
       "      <td>18</td>\n",
       "      <td>1</td>\n",
       "      <td>33.770</td>\n",
       "      <td>1</td>\n",
       "      <td>0</td>\n",
       "      <td>2</td>\n",
       "      <td>1725.55230</td>\n",
       "    </tr>\n",
       "    <tr>\n",
       "      <th>2</th>\n",
       "      <td>28</td>\n",
       "      <td>1</td>\n",
       "      <td>33.000</td>\n",
       "      <td>3</td>\n",
       "      <td>0</td>\n",
       "      <td>2</td>\n",
       "      <td>4449.46200</td>\n",
       "    </tr>\n",
       "    <tr>\n",
       "      <th>3</th>\n",
       "      <td>33</td>\n",
       "      <td>1</td>\n",
       "      <td>22.705</td>\n",
       "      <td>0</td>\n",
       "      <td>0</td>\n",
       "      <td>1</td>\n",
       "      <td>21984.47061</td>\n",
       "    </tr>\n",
       "    <tr>\n",
       "      <th>4</th>\n",
       "      <td>32</td>\n",
       "      <td>1</td>\n",
       "      <td>28.880</td>\n",
       "      <td>0</td>\n",
       "      <td>0</td>\n",
       "      <td>1</td>\n",
       "      <td>3866.85520</td>\n",
       "    </tr>\n",
       "  </tbody>\n",
       "</table>\n",
       "</div>"
      ],
      "text/plain": [
       "   age  sex     bmi  children  smoker  region      charges\n",
       "0   19    0  27.900         0       1       3  16884.92400\n",
       "1   18    1  33.770         1       0       2   1725.55230\n",
       "2   28    1  33.000         3       0       2   4449.46200\n",
       "3   33    1  22.705         0       0       1  21984.47061\n",
       "4   32    1  28.880         0       0       1   3866.85520"
      ]
     },
     "execution_count": 58,
     "metadata": {},
     "output_type": "execute_result"
    }
   ],
   "source": [
    "dataset.head()"
   ]
  },
  {
   "cell_type": "code",
   "execution_count": 59,
   "metadata": {},
   "outputs": [
    {
     "name": "stdout",
     "output_type": "stream",
     "text": [
      "Data Latih (X_train):\n",
      "       age  sex     bmi  children  smoker  region\n",
      "1306   29    0  21.850         0       1       0\n",
      "124    47    0  33.915         3       0       1\n",
      "588    61    0  35.910         0       0       0\n",
      "1127   35    0  35.860         2       0       2\n",
      "201    48    0  32.230         1       0       2\n",
      "...   ...  ...     ...       ...     ...     ...\n",
      "802    21    1  22.300         1       0       3\n",
      "53     36    1  34.430         0       1       2\n",
      "350    57    0  23.180         0       0       1\n",
      "79     41    0  32.965         0       0       1\n",
      "792    22    0  23.180         0       0       0\n",
      "\n",
      "[1070 rows x 6 columns]\n",
      "\n",
      "Data Uji (X_test):\n",
      "       age  sex     bmi  children  smoker  region\n",
      "12     23    1  34.400         0       0       3\n",
      "306    28    0  27.500         2       0       3\n",
      "318    44    0  27.645         0       0       1\n",
      "815    20    0  31.460         0       0       2\n",
      "157    18    1  25.175         0       1       0\n",
      "...   ...  ...     ...       ...     ...     ...\n",
      "713    20    1  40.470         0       0       0\n",
      "1282   18    0  21.660         0       1       0\n",
      "531    62    0  31.730         0       0       0\n",
      "537    46    0  30.200         2       0       3\n",
      "1015   59    1  25.460         0       0       1\n",
      "\n",
      "[268 rows x 6 columns]\n"
     ]
    }
   ],
   "source": [
    "# Fitur (x) target (y)\n",
    "x = dataset.drop('charges', axis=1) # Semua kolom kecuali charges\n",
    "y = dataset['charges'] # Kolom target\n",
    "\n",
    "# Membagi dataset menjadi data latih (train) dan data uji (test) dengan proporsi 80:20\n",
    "x_train, x_test, y_train, y_test = train_test_split(x, y, test_size=0.2, random_state=100)\n",
    "print(\"Data Latih (X_train):\\n\", x_train)\n",
    "print(\"\\nData Uji (X_test):\\n\", x_test)"
   ]
  },
  {
   "cell_type": "code",
   "execution_count": 60,
   "metadata": {},
   "outputs": [],
   "source": [
    "# feature scaling\n",
    "scaler_x = StandardScaler()\n",
    "scaler_y = StandardScaler()\n",
    "x_train_scaled = scaler_x.fit_transform(x_train)\n",
    "x_test_scaled = scaler_x.transform(x_test)\n",
    "\n",
    "\n",
    "# Reshape y_train untuk fit ke scaler_y (karena scaler_y butuh array 2D)\n",
    "y_train_scaled = scaler_y.fit_transform(y_train.values.reshape(-1, 1)).ravel()\n",
    "y_test_scaled = scaler_y.transform(y_test.values.reshape(-1, 1)).ravel()"
   ]
  },
  {
   "cell_type": "code",
   "execution_count": 61,
   "metadata": {},
   "outputs": [
    {
     "name": "stdout",
     "output_type": "stream",
     "text": [
      "Mean Absolute Error (MAE): 2505.0484077853807\n",
      "Mean Squared Error (MSE): 18732259.902009036\n",
      "R-squared: 0.880540213141699\n"
     ]
    }
   ],
   "source": [
    "from sklearn.svm import SVR\n",
    "\n",
    "# Membuat model SVR\n",
    "svr_model = SVR(kernel='rbf')\n",
    "\n",
    "# Melatih model dengan data latih yang telah di scale\n",
    "svr_model.fit(x_train_scaled, y_train_scaled)\n",
    "\n",
    "# Memprediksi\n",
    "y_pred_svr_scaled = svr_model.predict(x_test_scaled)\n",
    "\n",
    "# Mengembalikan hasil prediksi ke skala aslinya\n",
    "y_pred_svr = scaler_y.inverse_transform(y_pred_svr_scaled.reshape(-1, 1)).ravel()\n",
    "\n",
    "# Menghitung MAE, MSE, dan R-squared pada skala asli\n",
    "mae = mean_absolute_error(y_test, y_pred_svr)\n",
    "mse = mean_squared_error(y_test, y_pred_svr)\n",
    "r_squared = r2_score(y_test, y_pred_svr)\n",
    "\n",
    "print(f\"Mean Absolute Error (MAE): {mae}\")\n",
    "print(f\"Mean Squared Error (MSE): {mse}\")\n",
    "print(f\"R-squared: {r_squared}\")"
   ]
  },
  {
   "cell_type": "markdown",
   "metadata": {},
   "source": [
    "1. MAE mengukur rata-rata kesalahan absolut antara nilai aktual dan nilai prediksi. Dalam hal ini, rata-rata kesalahan prediksi model adalah sekitar 2505, yang berarti setiap prediksi model, rata-rata meleset sekitar 2505 unit dari nilai sebenarnya.\n",
    "2. MSE mengukur rata-rata kuadrat dari selisih antara nilai aktual dan nilai prediksi. MSE yang tinggi menunjukkan bahwa model membuat beberapa kesalahan prediksi yang cukup besar. Nilai ini membantu menunjukkan bahwa meskipun rata-rata kesalahan mungkin kecil (dalam MAE), ada kemungkinan beberapa outlier yang memiliki kesalahan besar.\n",
    "3. R-squared (koefisien determinasi) mengukur seberapa baik model menjelaskan variabilitas data target. R-squared sebesar 0.88 berarti 88% dari variasi dalam data target dapat dijelaskan oleh model."
   ]
  },
  {
   "cell_type": "code",
   "execution_count": 62,
   "metadata": {},
   "outputs": [
    {
     "data": {
      "image/png": "[encoded data removed]",
      "text/plain": [
       "<Figure size 1000x600 with 1 Axes>"
      ]
     },
     "metadata": {},
     "output_type": "display_data"
    }
   ],
   "source": [
    "# Visualisasi hasil\n",
    "plt.figure(figsize=(10, 6))\n",
    "\n",
    "# Plot nilai asli vs prediksi\n",
    "plt.scatter(y_test, y_pred_svr, color='blue', label='Prediksi vs Aktual')\n",
    "plt.plot([min(y_test), max(y_test)], [min(y_test), max(y_test)], color='red', label='Perfect fit')  # Garis sempurna\n",
    "\n",
    "plt.title('Prediksi vs Nilai Aktual')\n",
    "plt.xlabel('Nilai Aktual')\n",
    "plt.ylabel('Nilai Prediksi')\n",
    "plt.legend()\n",
    "plt.grid(True)\n",
    "plt.show()"
   ]
  },
  {
   "cell_type": "markdown",
   "metadata": {},
   "source": [
    "1. Titik biru mewakili prediksi model versus nilai aktual. Jika model melakukan prediksi yang akurat, titik-titik ini akan berdekatan atau berada di sekitar garis merah (garis referensi sempurna).\n",
    "2. Garis merah mewakili prediksi sempurna. Jika semua titik biru tepat di garis merah, artinya model menghasilkan prediksi yang sempurna.\n",
    "3. Semakin dekat titik-titik ke garis merah, semakin baik model dalam memprediksi target."
   ]
  }
 ],
 "metadata": {
  "kernelspec": {
   "display_name": "base",
   "language": "python",
   "name": "python3"
  },
  "language_info": {
   "codemirror_mode": {
    "name": "ipython",
    "version": 3
   },
   "file_extension": ".py",
   "mimetype": "text/x-python",
   "name": "python",
   "nbconvert_exporter": "python",
   "pygments_lexer": "ipython3",
   "version": "3.12.4"
  }
 },
 "nbformat": 4,
 "nbformat_minor": 2
}
